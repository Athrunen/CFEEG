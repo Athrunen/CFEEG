{
 "cells": [
  {
   "cell_type": "code",
   "execution_count": 60,
   "id": "uniform-modeling",
   "metadata": {
    "scrolled": false
   },
   "outputs": [
    {
     "data": {
      "application/vnd.jupyter.widget-view+json": {
       "model_id": "972e06711ff14e97be432dd2d5cd82f9",
       "version_major": 2,
       "version_minor": 0
      },
      "text/plain": [
       "FigureWidget({\n",
       "    'data': [{'line': {'shape': 'linear'},\n",
       "              'mode': 'lines',\n",
       "              'name':…"
      ]
     },
     "metadata": {},
     "output_type": "display_data"
    }
   ],
   "source": [
    "import numpy as np\n",
    "import plotly.graph_objs as go\n",
    "from time import sleep\n",
    "import serial\n",
    "from numpy.fft import rfft, rfftfreq\n",
    "from plotly.subplots import make_subplots\n",
    "\n",
    "stream = serial.Serial()\n",
    "stream.baudrate = 9600\n",
    "stream.port = \"/dev/ttyACM1\"\n",
    "stream.timeout = 0.01\n",
    "stream.open()\n",
    "\n",
    "rate = 50\n",
    "dur = 2\n",
    "\n",
    "d = list(range(0, dur*rate))\n",
    "\n",
    "def get_sample():\n",
    "    stream.reset_input_buffer()\n",
    "    global d\n",
    "    sleep(1 / rate)\n",
    "    try:\n",
    "        s = stream.readline().decode()\n",
    "        if not s.strip():\n",
    "            return\n",
    "        s = float(s)\n",
    "        s = s / 1024.\n",
    "        if (s > 0.1 and s < 0.95):\n",
    "            d.append(s)\n",
    "        if len(d) > (rate * dur):\n",
    "            d.pop(0)\n",
    "    except Exception as e:\n",
    "        pass\n",
    "\n",
    "fig = go.FigureWidget(make_subplots(rows=3, cols=1))\n",
    "\n",
    "fig.append_trace(go.Scatter(x=None, y=None,\n",
    "                    mode='lines',\n",
    "                    name='lines',\n",
    "                    line_shape='linear'),\n",
    "             row=1, col=1)\n",
    "\n",
    "fig.append_trace(go.Scatter(x=None, y=None,\n",
    "                    mode='lines',\n",
    "                    name='lines',\n",
    "                    line_shape='linear'),\n",
    "             row=2, col=1)\n",
    "\n",
    "fig.append_trace(go.Bar(x=[\"Alpha\", \"Beta\", \"Theta\", \"Range\"], y=[0, 0, 0, 0]),\n",
    "             row=3, col=1)\n",
    "\n",
    "fig.update_layout(    \n",
    "    {    \n",
    "        'xaxis':{'range': [4, 25]},\n",
    "        'yaxis':{'range': [-0.1, 1.0]},\n",
    "        #'yaxis2':{'range': [0.7, 0.85]},\n",
    "        'yaxis2':{'range': [0.7, 1.0]},\n",
    "        'yaxis3':{'range': [0.0, 1.0]},\n",
    "    })\n",
    "fig.update_layout(height=800,)\n",
    "fig"
   ]
  },
  {
   "cell_type": "code",
   "execution_count": 62,
   "id": "patent-judgment",
   "metadata": {},
   "outputs": [
    {
     "ename": "KeyboardInterrupt",
     "evalue": "",
     "output_type": "error",
     "traceback": [
      "\u001b[0;31m---------------------------------------------------------------------------\u001b[0m",
      "\u001b[0;31mKeyboardInterrupt\u001b[0m                         Traceback (most recent call last)",
      "\u001b[0;32m<ipython-input-62-83ca0761ee2b>\u001b[0m in \u001b[0;36m<module>\u001b[0;34m\u001b[0m\n\u001b[1;32m     49\u001b[0m \u001b[0mn\u001b[0m \u001b[0;34m=\u001b[0m \u001b[0;36m0\u001b[0m\u001b[0;34m\u001b[0m\u001b[0;34m\u001b[0m\u001b[0m\n\u001b[1;32m     50\u001b[0m \u001b[0;32mwhile\u001b[0m \u001b[0;32mTrue\u001b[0m\u001b[0;34m:\u001b[0m\u001b[0;34m\u001b[0m\u001b[0;34m\u001b[0m\u001b[0m\n\u001b[0;32m---> 51\u001b[0;31m     \u001b[0mget_sample\u001b[0m\u001b[0;34m(\u001b[0m\u001b[0;34m)\u001b[0m\u001b[0;34m\u001b[0m\u001b[0;34m\u001b[0m\u001b[0m\n\u001b[0m\u001b[1;32m     52\u001b[0m     \u001b[0mfig\u001b[0m\u001b[0;34m.\u001b[0m\u001b[0mdata\u001b[0m\u001b[0;34m[\u001b[0m\u001b[0;36m1\u001b[0m\u001b[0;34m]\u001b[0m\u001b[0;34m.\u001b[0m\u001b[0my\u001b[0m \u001b[0;34m=\u001b[0m \u001b[0md\u001b[0m\u001b[0;34m\u001b[0m\u001b[0;34m\u001b[0m\u001b[0m\n\u001b[1;32m     53\u001b[0m     \u001b[0;32mif\u001b[0m \u001b[0mn\u001b[0m \u001b[0;34m==\u001b[0m \u001b[0;36m25\u001b[0m\u001b[0;34m:\u001b[0m\u001b[0;34m\u001b[0m\u001b[0;34m\u001b[0m\u001b[0m\n",
      "\u001b[0;32m<ipython-input-60-b5f7b22822cc>\u001b[0m in \u001b[0;36mget_sample\u001b[0;34m()\u001b[0m\n\u001b[1;32m     20\u001b[0m     \u001b[0mstream\u001b[0m\u001b[0;34m.\u001b[0m\u001b[0mreset_input_buffer\u001b[0m\u001b[0;34m(\u001b[0m\u001b[0;34m)\u001b[0m\u001b[0;34m\u001b[0m\u001b[0;34m\u001b[0m\u001b[0m\n\u001b[1;32m     21\u001b[0m     \u001b[0;32mglobal\u001b[0m \u001b[0md\u001b[0m\u001b[0;34m\u001b[0m\u001b[0;34m\u001b[0m\u001b[0m\n\u001b[0;32m---> 22\u001b[0;31m     \u001b[0msleep\u001b[0m\u001b[0;34m(\u001b[0m\u001b[0;36m1\u001b[0m \u001b[0;34m/\u001b[0m \u001b[0mrate\u001b[0m\u001b[0;34m)\u001b[0m\u001b[0;34m\u001b[0m\u001b[0;34m\u001b[0m\u001b[0m\n\u001b[0m\u001b[1;32m     23\u001b[0m     \u001b[0;32mtry\u001b[0m\u001b[0;34m:\u001b[0m\u001b[0;34m\u001b[0m\u001b[0;34m\u001b[0m\u001b[0m\n\u001b[1;32m     24\u001b[0m         \u001b[0ms\u001b[0m \u001b[0;34m=\u001b[0m \u001b[0mstream\u001b[0m\u001b[0;34m.\u001b[0m\u001b[0mreadline\u001b[0m\u001b[0;34m(\u001b[0m\u001b[0;34m)\u001b[0m\u001b[0;34m.\u001b[0m\u001b[0mdecode\u001b[0m\u001b[0;34m(\u001b[0m\u001b[0;34m)\u001b[0m\u001b[0;34m\u001b[0m\u001b[0;34m\u001b[0m\u001b[0m\n",
      "\u001b[0;31mKeyboardInterrupt\u001b[0m: "
     ]
    }
   ],
   "source": [
    "n_a_s = []\n",
    "n_b_s = []\n",
    "n_t_s = []\n",
    "\n",
    "fdur = 5\n",
    "\n",
    "def fft_thread():\n",
    "    global n_a_s, n_b_s, n_t_s\n",
    "    yf = rfft(d)\n",
    "    np_a = np.abs(yf)\n",
    "    xf = rfftfreq(rate * dur, 1 / rate)\n",
    "    alpha = np_a[7*dur:13*dur]\n",
    "    a_s = sum(alpha) / (6 * dur)\n",
    "    beta = np_a[13*dur:25*dur]\n",
    "    b_s = sum(beta) / (12 * dur)\n",
    "    #theta = np_a[3*dur:7*dur]\n",
    "    #t_s = sum(theta) / (4 * dur)\n",
    "\n",
    "    n_a_s.append(a_s)\n",
    "    n_a_s = n_a_s[-fdur:]\n",
    "    a_s = sum(n_a_s) / fdur\n",
    "\n",
    "    n_b_s.append(b_s)\n",
    "    n_b_s = n_b_s[-fdur:]\n",
    "    b_s = sum(n_b_s) / fdur\n",
    "\n",
    "    #n_t_s.append(t_s)\n",
    "    #n_t_s = n_t_s[-fdur:]\n",
    "    #t_s = sum(n_t_s) / fdur\n",
    "\n",
    "    #s = sum(np_a[4:25]) / 21\n",
    "    s = a_s + b_s #t_s)\n",
    "    \n",
    "    if s != 0.0:\n",
    "    \n",
    "        a_s = a_s / s\n",
    "        b_s = b_s / s\n",
    "        #t_s = t_s / s\n",
    "\n",
    "    #fig.data[0].x = xf\n",
    "    #fig.data[0].y = np_a\n",
    "    fig.data[2].y = [a_s, b_s] #t_s] #np.ptp(np_a[4:25])]\n",
    "    #me = sum(d) / len(d)\n",
    "    #fig.update_layout(    \n",
    "    #{\n",
    "    #    'yaxis2':{'range': [me - 0.15, me + 0.15]},\n",
    "    #})\n",
    "        \n",
    "n = 0\n",
    "while True:\n",
    "    get_sample()\n",
    "    fig.data[1].y = d\n",
    "    if n == 25:\n",
    "        fft_thread()\n",
    "        n = 0\n",
    "    n += 1"
   ]
  },
  {
   "cell_type": "code",
   "execution_count": null,
   "id": "exposed-neutral",
   "metadata": {},
   "outputs": [],
   "source": []
  },
  {
   "cell_type": "code",
   "execution_count": null,
   "id": "tamil-timeline",
   "metadata": {},
   "outputs": [],
   "source": []
  },
  {
   "cell_type": "code",
   "execution_count": null,
   "id": "fewer-society",
   "metadata": {},
   "outputs": [],
   "source": []
  }
 ],
 "metadata": {
  "kernelspec": {
   "display_name": "Python 3",
   "language": "python",
   "name": "python3"
  },
  "language_info": {
   "codemirror_mode": {
    "name": "ipython",
    "version": 3
   },
   "file_extension": ".py",
   "mimetype": "text/x-python",
   "name": "python",
   "nbconvert_exporter": "python",
   "pygments_lexer": "ipython3",
   "version": "3.8.6"
  }
 },
 "nbformat": 4,
 "nbformat_minor": 5
}
